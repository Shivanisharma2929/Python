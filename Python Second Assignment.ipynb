{
 "cells": [
  {
   "cell_type": "markdown",
   "id": "324290bf-3bc8-47e9-8dcc-b89634699a50",
   "metadata": {},
   "source": [
    "# Python Second Assignment"
   ]
  },
  {
   "cell_type": "markdown",
   "id": "c125b477-3a93-4df4-a00d-81c3ff0eadf8",
   "metadata": {},
   "source": [
    "#Question no .1\n",
    "Write a Python program to find the factorial of a number."
   ]
  },
  {
   "cell_type": "code",
   "execution_count": 2,
   "id": "90a0be9c-4ec7-4202-b078-829b85898875",
   "metadata": {},
   "outputs": [
    {
     "name": "stdin",
     "output_type": "stream",
     "text": [
      "enter a number 6\n"
     ]
    },
    {
     "name": "stdout",
     "output_type": "stream",
     "text": [
      "the factorial of the given number is 720\n"
     ]
    }
   ],
   "source": [
    "num = int(input(\"enter a number\"))\n",
    "\n",
    "fact =1\n",
    "if num <0:\n",
    "    print(\"factorial of 0 does not exist\")\n",
    "if num >0:\n",
    "    for i in range (1,num+1):\n",
    "        fact = fact * i\n",
    "\n",
    "print(\"the factorial of the given number is\",fact)"
   ]
  },
  {
   "cell_type": "markdown",
   "id": "86ae52a2-a381-4aec-8962-d255d58a8a5d",
   "metadata": {},
   "source": [
    "#Question no .2 Create a Python function that checks if a given number is prime.\n"
   ]
  },
  {
   "cell_type": "code",
   "execution_count": 4,
   "id": "e96ec9e2-6259-428d-8de9-f4229e80698d",
   "metadata": {},
   "outputs": [
    {
     "name": "stdin",
     "output_type": "stream",
     "text": [
      "enter a number 37\n"
     ]
    },
    {
     "name": "stdout",
     "output_type": "stream",
     "text": [
      "it is a prime number\n"
     ]
    }
   ],
   "source": [
    "num= int(input(\"enter a number\"))\n",
    "if num ==1:\n",
    "    print(\"it is not a prime number\")\n",
    "if num>1:\n",
    "    for i in range(2,num):\n",
    "        if num %i==0:\n",
    "            print(\"it is not a prime number\")\n",
    "            break\n",
    "    else:\n",
    "        print(\"it is a prime number\")"
   ]
  },
  {
   "cell_type": "markdown",
   "id": "ba87807e-cc55-4a3f-adac-a31e6afac38c",
   "metadata": {},
   "source": [
    "#Question no. 3 Write a Python program to find the sum of all elements in a list."
   ]
  },
  {
   "cell_type": "code",
   "execution_count": 6,
   "id": "802fe5e4-08d1-41b7-85e1-0811868409df",
   "metadata": {},
   "outputs": [
    {
     "name": "stdout",
     "output_type": "stream",
     "text": [
      "10\n",
      "30\n",
      "60\n",
      "100\n",
      "150\n"
     ]
    }
   ],
   "source": [
    "a=[10,20,30,40,50]\n",
    "sum = 0\n",
    "for val in a:\n",
    "    sum +=val\n",
    "    print(sum)\n"
   ]
  },
  {
   "cell_type": "markdown",
   "id": "18ea8b17-1887-4899-8500-c6c4a959bfd6",
   "metadata": {},
   "source": [
    "#Question no.4 Write a Python program to reverse a string.\n"
   ]
  },
  {
   "cell_type": "code",
   "execution_count": 8,
   "id": "aec5090f-a09e-4178-a30c-ca24994f7444",
   "metadata": {},
   "outputs": [
    {
     "name": "stdout",
     "output_type": "stream",
     "text": [
      "('cherry', 'mango', 'orange', 'kiwi', 'banana', 'apple')\n"
     ]
    }
   ],
   "source": [
    "fruits = ('apple','banana','kiwi','orange','mango','cherry')\n",
    "print(fruits[::-1])\n"
   ]
  },
  {
   "cell_type": "markdown",
   "id": "8678ffb5-a981-4936-a68d-7befdeb2896a",
   "metadata": {},
   "source": [
    "#Question no.5 Create a Python function to find the largest element in a list."
   ]
  },
  {
   "cell_type": "code",
   "execution_count": 9,
   "id": "7d6dc88c-041e-45dd-b045-0c62ffab7fa6",
   "metadata": {},
   "outputs": [
    {
     "name": "stdin",
     "output_type": "stream",
     "text": [
      "enter a 1st number 6\n",
      "enter a 2nd number 8\n",
      "enter a 3rd number 4\n"
     ]
    },
    {
     "name": "stdout",
     "output_type": "stream",
     "text": [
      "8 is the largest number\n"
     ]
    }
   ],
   "source": [
    "a=int(input(\"enter a 1st number\"))\n",
    "b=int(input(\"enter a 2nd number\"))\n",
    "c=int(input(\"enter a 3rd number\"))\n",
    "\n",
    "if (a>b) and (a>c):\n",
    "    print(a,\"is a largest number\")\n",
    "elif(b>a) and(b>c):\n",
    "    print(b,\"is the largest number\")\n",
    "else:\n",
    "    print(c,\"is the largest number\")"
   ]
  },
  {
   "cell_type": "markdown",
   "id": "ae16952d-d6de-4654-ada2-4575678bd767",
   "metadata": {},
   "source": [
    "#Question no.6 Write a Python program to display the Fibonacci sequence up to n terms."
   ]
  },
  {
   "cell_type": "code",
   "execution_count": 10,
   "id": "f7fd563b-5826-4869-879f-b2f2a7122ba5",
   "metadata": {},
   "outputs": [
    {
     "name": "stdin",
     "output_type": "stream",
     "text": [
      "enter a number to obtain fibonacci sequence 7\n"
     ]
    },
    {
     "name": "stdout",
     "output_type": "stream",
     "text": [
      "0\n",
      "1\n",
      "1\n",
      "2\n",
      "3\n",
      "5\n",
      "8\n",
      "13\n",
      "21\n"
     ]
    }
   ],
   "source": [
    "a=0\n",
    "b=1\n",
    "num = int(input(\"enter a number to obtain fibonacci sequence\"))\n",
    "if num ==1:\n",
    "    print(a)\n",
    "else:\n",
    "    print(a)\n",
    "    print(b)\n",
    "    for i in range (1, num+1):\n",
    "        c=a+b\n",
    "        a=b\n",
    "        b=c\n",
    "        print(c)\n",
    "    "
   ]
  },
  {
   "cell_type": "markdown",
   "id": "700eb596-c858-4c63-9cd5-eefdd3407730",
   "metadata": {},
   "source": [
    "#Question no 7. Create a Python function to check if a string is a palindrome."
   ]
  },
  {
   "cell_type": "code",
   "execution_count": 14,
   "id": "50ba9622-f7ee-4e16-9596-9eb812d0589a",
   "metadata": {},
   "outputs": [
    {
     "name": "stdin",
     "output_type": "stream",
     "text": [
      "enter string madam\n"
     ]
    },
    {
     "name": "stdout",
     "output_type": "stream",
     "text": [
      "Palindrome string\n"
     ]
    }
   ],
   "source": [
    "a=input(\"enter string\")\n",
    "b=a[-1::-1]\n",
    "if(a==b):\n",
    "    print(\"Palindrome string\")\n",
    "\n",
    "else:\n",
    "    print(\"Not Palindrome string\")"
   ]
  },
  {
   "cell_type": "markdown",
   "id": "3631032c-66e5-4670-9f1d-fd7509fe9edd",
   "metadata": {},
   "source": [
    "#Question no 8. Write a Python class Circle that has two methods: area and circumference."
   ]
  },
  {
   "cell_type": "code",
   "execution_count": 18,
   "id": "dd4ce485-afff-4597-8f08-ebefe6e80c8b",
   "metadata": {},
   "outputs": [
    {
     "name": "stdin",
     "output_type": "stream",
     "text": [
      "enter the radius 2.5\n"
     ]
    },
    {
     "name": "stdout",
     "output_type": "stream",
     "text": [
      "Area of Circle 19.634954084936208\n",
      "Circumference is = 15.707963267948966\n"
     ]
    }
   ],
   "source": [
    "import math\n",
    "r=float(input(\"enter the radius\"))\n",
    "c=2*math.pi*r\n",
    "a=math.pi*r*r\n",
    "print(\"Area of Circle\",a)\n",
    "print(\"Circumference is =\",c)"
   ]
  },
  {
   "cell_type": "markdown",
   "id": "7a516b2b-180f-4760-9599-6abc8795a73f",
   "metadata": {},
   "source": [
    "#Question no.9 Write a Python program to find the second largest number in a list."
   ]
  },
  {
   "cell_type": "code",
   "execution_count": 20,
   "id": "60204d10-4739-4c09-9dce-ab3a938def93",
   "metadata": {},
   "outputs": [
    {
     "name": "stdin",
     "output_type": "stream",
     "text": [
      "enter a list length:  5\n",
      "enter a list item:  10\n",
      "enter a list item:  4\n",
      "enter a list item:  67\n",
      "enter a list item:  88\n",
      "enter a list item:  45\n"
     ]
    },
    {
     "name": "stdout",
     "output_type": "stream",
     "text": [
      "second largest number in a list is :  67\n"
     ]
    }
   ],
   "source": [
    "length = int(input(\"enter a list length: \"))\n",
    "numbers_list = []\n",
    "for _ in range(length):\n",
    "    temp = int(input(\"enter a list item: \"))\n",
    "    numbers_list.append(temp)\n",
    "\n",
    "first_largest, second_largest = numbers_list[0],numbers_list[0]\n",
    "\n",
    "for item in numbers_list:\n",
    "    if item > first_largest:\n",
    "        second_largest = first_largest\n",
    "        first_largest = item\n",
    "    elif item > second_largest and item != first_largest:\n",
    "        second_largest = item\n",
    "\n",
    "print(\"second largest number in a list is : \",second_largest)"
   ]
  },
  {
   "cell_type": "code",
   "execution_count": null,
   "id": "a3a399ce-7c97-4de3-80a5-791fd378c55a",
   "metadata": {},
   "outputs": [],
   "source": []
  }
 ],
 "metadata": {
  "kernelspec": {
   "display_name": "Python 3 (ipykernel)",
   "language": "python",
   "name": "python3"
  },
  "language_info": {
   "codemirror_mode": {
    "name": "ipython",
    "version": 3
   },
   "file_extension": ".py",
   "mimetype": "text/x-python",
   "name": "python",
   "nbconvert_exporter": "python",
   "pygments_lexer": "ipython3",
   "version": "3.11.2"
  }
 },
 "nbformat": 4,
 "nbformat_minor": 5
}
