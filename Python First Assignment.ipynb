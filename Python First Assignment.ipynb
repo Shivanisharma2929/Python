{
 "cells": [
  {
   "cell_type": "markdown",
   "id": "007540f9-1916-4298-96d7-10a0dacd8d99",
   "metadata": {},
   "source": [
    "# Python First Assignment "
   ]
  },
  {
   "cell_type": "markdown",
   "id": "594672fa-f10d-49fe-82fd-9304cb8c325d",
   "metadata": {},
   "source": [
    "#Q.no 1. Write a Python function to remove duplicates from a list while maintaining the original order.¶"
   ]
  },
  {
   "cell_type": "code",
   "execution_count": 4,
   "id": "adb0bcb6-1924-40cc-af3f-c17ee521d1d4",
   "metadata": {},
   "outputs": [
    {
     "name": "stdout",
     "output_type": "stream",
     "text": [
      "[1, 2, 3, 4, 5, 33]\n"
     ]
    }
   ],
   "source": [
    "my_list = [1,2,3,4,3,4,5,33,2,33,4,5,]\n",
    "new_list = []\n",
    "for item in my_list:\n",
    "    if item not in new_list:\n",
    "        new_list.append(item)\n",
    "\n",
    "print(new_list)"
   ]
  },
  {
   "cell_type": "markdown",
   "id": "951e00fa-4aa2-412a-a401-3282a154906b",
   "metadata": {},
   "source": [
    "#Q.no, 2. Write a Python function to count the frequency of characters in a string using a dictionary."
   ]
  },
  {
   "cell_type": "code",
   "execution_count": 5,
   "id": "7d03a98b-453e-4a37-bab3-b2e8966ea3d2",
   "metadata": {},
   "outputs": [
    {
     "name": "stdin",
     "output_type": "stream",
     "text": [
      "enter a string Hello Shivani\n"
     ]
    },
    {
     "name": "stdout",
     "output_type": "stream",
     "text": [
      "string is  Hello Shivani\n",
      "{'H': 1, 'e': 1, 'l': 2, 'o': 1, ' ': 1, 'S': 1, 'h': 1, 'i': 2, 'v': 1, 'a': 1, 'n': 1}\n"
     ]
    }
   ],
   "source": [
    "str=input(\"enter a string\")\n",
    "print(\"string is \",str)\n",
    "count={}\n",
    "for i in str:\n",
    "    if i in count.keys():\n",
    "        count[i]+=1\n",
    "    else:\n",
    "        count[i]=1\n",
    "\n",
    "print(count)"
   ]
  },
  {
   "cell_type": "code",
   "execution_count": 6,
   "id": "5ff982b5-a463-493e-81db-c1634d6eae82",
   "metadata": {},
   "outputs": [
    {
     "name": "stdout",
     "output_type": "stream",
     "text": [
      "{'H': 1, 'e': 1, 'y': 1, ' ': 1, 'S': 1, 'h': 2, 'u': 1, 'b': 1, 'a': 1, 'm': 1}\n"
     ]
    }
   ],
   "source": [
    "str=\"Hey Shubham\"\n",
    "dict ={}\n",
    "for i in str:\n",
    "    if i in dict.keys():\n",
    "        dict[i]+=1\n",
    "    else:\n",
    "        dict[i]=1\n",
    "\n",
    "print(dict)"
   ]
  },
  {
   "cell_type": "code",
   "execution_count": 7,
   "id": "9541b839-b5ed-4a9e-bfaf-e524f1a5ed9a",
   "metadata": {},
   "outputs": [
    {
     "name": "stdin",
     "output_type": "stream",
     "text": [
      "enter a string: Shivani Sharma\n"
     ]
    },
    {
     "name": "stdout",
     "output_type": "stream",
     "text": [
      "{'S': 2, 'h': 2, 'i': 2, 'v': 1, 'a': 3, 'n': 1, ' ': 1, 'r': 1, 'm': 1}\n"
     ]
    }
   ],
   "source": [
    "def count (str):\n",
    "    dict={}\n",
    "    for i in str:\n",
    "        if i in dict:\n",
    "            dict[i]+=1\n",
    "        else:\n",
    "            dict[i]=1\n",
    "    return dict\n",
    "\n",
    "string = input(\"enter a string:\")\n",
    "print(count(string))\n"
   ]
  },
  {
   "cell_type": "markdown",
   "id": "937b0071-1072-448c-8597-dfe4bd0c8355",
   "metadata": {},
   "source": [
    "#Q.no,3. Write a Python function to sort a list of tuples based on the second element in each tuple."
   ]
  },
  {
   "cell_type": "code",
   "execution_count": 12,
   "id": "649fd981-842d-4b9a-8169-af9437c6426e",
   "metadata": {},
   "outputs": [
    {
     "name": "stdout",
     "output_type": "stream",
     "text": [
      "[('Shubham', 9), ('Shristi', 10), ('Anjali', 20), ('Nancy', 22), ('Vishal', 29)]\n"
     ]
    }
   ],
   "source": [
    "student = (('Anjali',20),('Vishal',29),('Nancy',22),('Shristi',10),('Shubham',9))\n",
    "result = sorted(student, key=lambda x: x[1])\n",
    "print(result)"
   ]
  },
  {
   "cell_type": "markdown",
   "id": "adccbde8-904b-496b-a4da-a6d80f36683f",
   "metadata": {},
   "source": [
    "#Q.no,4.Write a Python program to merge two dictionaries."
   ]
  },
  {
   "cell_type": "code",
   "execution_count": 15,
   "id": "f5f385c4-f0ee-4fcc-8981-1eff622b7c7e",
   "metadata": {},
   "outputs": [
    {
     "name": "stdout",
     "output_type": "stream",
     "text": [
      "{1, 2, 3, 4, 5, 6, 'lion', 'Cat', 'Dog'}\n"
     ]
    }
   ],
   "source": [
    "dict1={1,2,3,4,5,6}\n",
    "dict2={\"Cat\",\"Dog\",\"lion\"}\n",
    "print(dict1|dict2)"
   ]
  },
  {
   "cell_type": "markdown",
   "id": "f43fc85b-f33a-45dc-9bed-588127bb2acf",
   "metadata": {},
   "source": [
    "#Q.no,5. Write a Python function to find the second largest number in a list."
   ]
  },
  {
   "cell_type": "code",
   "execution_count": 35,
   "id": "6b2e5dcf-aec1-477c-b436-3768fb07695f",
   "metadata": {},
   "outputs": [
    {
     "name": "stdout",
     "output_type": "stream",
     "text": [
      "The second largest number is: 45\n"
     ]
    }
   ],
   "source": [
    "def find_second_largest(numbers):\n",
    "    return sorted(set(numbers))[-2]\n",
    "\n",
    "numbers = [10, 20, 4, 45, 99]\n",
    "print(\"The second largest number is:\", find_second_largest(numbers))"
   ]
  },
  {
   "cell_type": "code",
   "execution_count": 17,
   "id": "27642b15-0424-43b8-9496-ea6ba3db3ae2",
   "metadata": {},
   "outputs": [
    {
     "name": "stdout",
     "output_type": "stream",
     "text": [
      "8\n"
     ]
    }
   ],
   "source": [
    "list1=[1,5,6,7,8,9,2,6]\n",
    "list1.sort()\n",
    "print(list1[-2])"
   ]
  },
  {
   "cell_type": "markdown",
   "id": "88f6ba15-a990-419f-9c85-21278a99c31b",
   "metadata": {},
   "source": [
    "#Q.no,6. Write a Python function to find the smallest number in a list."
   ]
  },
  {
   "cell_type": "code",
   "execution_count": 27,
   "id": "9002f9ab-f642-4cc1-b184-a5fdd078c734",
   "metadata": {},
   "outputs": [
    {
     "name": "stdout",
     "output_type": "stream",
     "text": [
      "The smallest number is : 1\n"
     ]
    }
   ],
   "source": [
    "num=[10,34,56,78,1,35,56,78]\n",
    "\n",
    "def smallest_number(num):\n",
    "    return min(num)\n",
    "\n",
    "smallest_number = smallest_number(num)\n",
    "print(f\"The smallest number is : {smallest_number}\")"
   ]
  },
  {
   "cell_type": "markdown",
   "id": "05fc11bf-894b-4d2d-98e7-1f83f0b0b3b8",
   "metadata": {},
   "source": [
    "#Q.no, 7. Write a Python program to reverse a given list."
   ]
  },
  {
   "cell_type": "code",
   "execution_count": 28,
   "id": "4ca6e242-82ec-42e5-8c01-7607a534d335",
   "metadata": {},
   "outputs": [
    {
     "name": "stdout",
     "output_type": "stream",
     "text": [
      "['Shristi', 'Nancy', 'Shivani', 'Rahul', 'Vishal', 'Piyush', 'Angle']\n"
     ]
    }
   ],
   "source": [
    "name = [\"Angle\",\"Piyush\",\"Vishal\",\"Rahul\",\"Shivani\",\"Nancy\",\"Shristi\"]\n",
    "print(name[::-1])"
   ]
  },
  {
   "cell_type": "markdown",
   "id": "cc3d96df-f0b7-4f43-bc77-2f4d83db7bf9",
   "metadata": {},
   "source": [
    "#Q.no, 8. Write a Python program to count the number of vowels in a given string."
   ]
  },
  {
   "cell_type": "code",
   "execution_count": 29,
   "id": "5d966b14-a91f-44d4-809a-4b57dd1377c8",
   "metadata": {},
   "outputs": [
    {
     "name": "stdout",
     "output_type": "stream",
     "text": [
      "7\n"
     ]
    }
   ],
   "source": [
    "sentence = (\"Welcome to india\")\n",
    "count = 0\n",
    "vowels =('a','e','i','o','u')\n",
    "for char in sentence:\n",
    "    if char in vowels:\n",
    "        count=count+1\n",
    "\n",
    "print(count)"
   ]
  },
  {
   "cell_type": "markdown",
   "id": "2a1e35fe-2680-4361-91a4-40e1a2a5edd9",
   "metadata": {},
   "source": [
    "#Q.no, 9. Write a Python program to find the maximum of three numbers."
   ]
  },
  {
   "cell_type": "code",
   "execution_count": 31,
   "id": "05084f43-7c0a-4d40-bca7-6c9d14932b12",
   "metadata": {},
   "outputs": [
    {
     "name": "stdout",
     "output_type": "stream",
     "text": [
      "35\n"
     ]
    }
   ],
   "source": [
    "a=12\n",
    "b=35\n",
    "c=26\n",
    "\n",
    "def maximum (a,b,c):\n",
    "    if (a>b) and (a>c):\n",
    "        largest = a\n",
    "    elif (b>a) and(b>c):\n",
    "        largest = b\n",
    "    else:\n",
    "        largest =c\n",
    "    return largest\n",
    "\n",
    "print(maximum(a,b,c))"
   ]
  },
  {
   "cell_type": "code",
   "execution_count": null,
   "id": "37088a2c-d898-43b2-b6d4-d266f377cb7b",
   "metadata": {},
   "outputs": [],
   "source": []
  }
 ],
 "metadata": {
  "kernelspec": {
   "display_name": "Python 3 (ipykernel)",
   "language": "python",
   "name": "python3"
  },
  "language_info": {
   "codemirror_mode": {
    "name": "ipython",
    "version": 3
   },
   "file_extension": ".py",
   "mimetype": "text/x-python",
   "name": "python",
   "nbconvert_exporter": "python",
   "pygments_lexer": "ipython3",
   "version": "3.11.2"
  }
 },
 "nbformat": 4,
 "nbformat_minor": 5
}
